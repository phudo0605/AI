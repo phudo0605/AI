{
  "nbformat": 4,
  "nbformat_minor": 0,
  "metadata": {
    "colab": {
      "provenance": [],
      "authorship_tag": "ABX9TyNgHpihXJPGm2DwmImN6JGm",
      "include_colab_link": true
    },
    "kernelspec": {
      "name": "python3",
      "display_name": "Python 3"
    },
    "language_info": {
      "name": "python"
    }
  },
  "cells": [
    {
      "cell_type": "markdown",
      "metadata": {
        "id": "view-in-github",
        "colab_type": "text"
      },
      "source": [
        "<a href=\"https://colab.research.google.com/github/phudo0605/AI/blob/main/HW2/water_jug_puzzle2.ipynb\" target=\"_parent\"><img src=\"https://colab.research.google.com/assets/colab-badge.svg\" alt=\"Open In Colab\"/></a>"
      ]
    },
    {
      "cell_type": "markdown",
      "source": [],
      "metadata": {
        "id": "ZBiizHkJ729x"
      }
    },
    {
      "cell_type": "markdown",
      "source": [
        "# **[jug5L, *Jug3L*]**"
      ],
      "metadata": {
        "id": "itMVORrKS1GV"
      }
    },
    {
      "cell_type": "markdown",
      "source": [
        "**Start State**\n",
        "[0,0]\n",
        "\n",
        "**Goal State**\n",
        "[4,d]\n",
        "d: don't care\n",
        "\n",
        "**Rules**\n",
        "R1: Fill up a jug with water from outside;\n",
        "R2: Empty a jug;\n",
        "R3: Pour water from one jug to another jug\n",
        "\n",
        "**The Solution**\n",
        "[0,0] -->R1-->[5,0] -->R3 -->[2,3] -->R2 -->[2,0] -->R3 -->[0,2] -->R1 -->[5,2] -->R3 -->[4,3]"
      ],
      "metadata": {
        "id": "2nzgQImD7iW0"
      }
    },
    {
      "cell_type": "code",
      "execution_count": 2,
      "metadata": {
        "id": "zBzcSfRZ4idv"
      },
      "outputs": [],
      "source": [
        "class WaterJugPuzzle():\n",
        "\n",
        "    # Model the state using 2 jugs: jug5L and jug3L\n",
        "\n",
        "    def __init__(self):\n",
        "        self.jug5L = 0\n",
        "        self.jug3L = 0\n",
        "\n",
        "    def is_jug_overfull(self):\n",
        "        if self.jug5L > 5 or self.jug3L > 3:\n",
        "            return True\n",
        "\n",
        "    def state_ok(self):\n",
        "        return not (self.is_jug_overfull())\n",
        "\n",
        "    def save_state(self):\n",
        "        self._jug5L = self.jug5L\n",
        "        self._jug3L = self.jug3L\n",
        "\n",
        "    def undo_state(self):\n",
        "        self.jug5L = self._jug5L\n",
        "        self.jug3L = self._jug3L\n",
        "\n",
        "    ####################################################################\n",
        "    # Rule 1: Fill up jug5L\n",
        "    ####################################################################\n",
        "    def R1_fill_up_jug5L(self):\n",
        "\n",
        "        self.save_state()\n",
        "\n",
        "        if self.jug5L == 0:\n",
        "            self.jug5L += 5\n",
        "            if not self.state_ok(): self.undo_state()\n",
        "\n",
        "    ####################################################################\n",
        "    # Rule 2: Empty jug3L\n",
        "    ####################################################################\n",
        "    def R2_empty_jug3L(self):\n",
        "\n",
        "        self.save_state()\n",
        "\n",
        "        if self.jug3L == 3:\n",
        "            self.jug3L -= 3\n",
        "            if not self.state_ok(): self.undo_state()\n",
        "\n",
        "    ####################################################################\n",
        "    # Rule 3: Pour water from jug5L to jug3L\n",
        "    ####################################################################\n",
        "    def R3_pour_jug5L_to_jug3L(self):\n",
        "\n",
        "        self.save_state()\n",
        "\n",
        "        if self.jug5L == 5:\n",
        "            if self.jug3L == 0:\n",
        "                self.jug5L -= 3\n",
        "                self.jug3L += 3\n",
        "            if self.jug3L == 2:\n",
        "                self.jug5L -= 1\n",
        "                self.jug3L += 1\n",
        "            if not self.state_ok(): self.undo_state()\n",
        "\n",
        "        elif self.jug5L == 2 and self.jug3L == 0:\n",
        "            self.jug5L -= 2\n",
        "            self.jug3L += 2\n",
        "            if not self.state_ok(): self.undo_state()\n",
        "\n",
        "    #########################################################################\n",
        "    # Set one invariant to ensure the state of the system is consistent\n",
        "    #########################################################################\n",
        "    def jug_not_full(self):\n",
        "        return not self.is_jug_overfull()\n",
        "\n",
        "    ####################################################################\n",
        "    # Display states\n",
        "    ####################################################################\n",
        "    def print_state(self):\n",
        "        print(\"===> ({jug5L}, {jug3L})\".format(jug5L=self.jug5L, jug3L=self.jug3L))"
      ]
    },
    {
      "cell_type": "code",
      "source": [
        "# Forming the Solution\n",
        "\n",
        "wjp = WaterJugPuzzle()\n",
        "\n",
        "# print the initial state\n",
        "wjp.print_state()\n",
        "\n",
        "\n",
        "print(\"-----------------------\")\n",
        "# apply a rule and print the resulting state\n",
        "wjp.R1_fill_up_jug5L()\n",
        "wjp.print_state()\n",
        "\n",
        "print(\"-----------------------\")\n",
        "wjp.R3_pour_jug5L_to_jug3L()\n",
        "wjp.print_state()\n",
        "\n",
        "print(\"-----------------------\")\n",
        "wjp.R2_empty_jug3L()\n",
        "wjp.print_state()\n",
        "\n",
        "print(\"-----------------------\")\n",
        "wjp.R3_pour_jug5L_to_jug3L()\n",
        "wjp.print_state()\n",
        "\n",
        "print(\"-----------------------\")\n",
        "wjp.R1_fill_up_jug5L()\n",
        "wjp.print_state()\n",
        "\n",
        "print(\"-----------------------\")\n",
        "wjp.R3_pour_jug5L_to_jug3L()\n",
        "wjp.print_state()"
      ],
      "metadata": {
        "colab": {
          "base_uri": "https://localhost:8080/"
        },
        "id": "Pfyf8Qdw45Ya",
        "outputId": "48877e58-7d47-4817-c409-4b4d72f6aa6e"
      },
      "execution_count": 3,
      "outputs": [
        {
          "output_type": "stream",
          "name": "stdout",
          "text": [
            "===> (0, 0)\n",
            "-----------------------\n",
            "===> (5, 0)\n",
            "-----------------------\n",
            "===> (2, 3)\n",
            "-----------------------\n",
            "===> (2, 0)\n",
            "-----------------------\n",
            "===> (0, 2)\n",
            "-----------------------\n",
            "===> (5, 2)\n",
            "-----------------------\n",
            "===> (4, 3)\n"
          ]
        }
      ]
    }
  ]
}